{
 "cells": [
  {
   "cell_type": "code",
   "execution_count": 12,
   "metadata": {},
   "outputs": [],
   "source": [
    "import pandas as pd"
   ]
  },
  {
   "cell_type": "code",
   "execution_count": 17,
   "metadata": {},
   "outputs": [
    {
     "ename": "TypeError",
     "evalue": "'module' object is not callable",
     "output_type": "error",
     "traceback": [
      "\u001b[0;31m---------------------------------------------------------------------------\u001b[0m",
      "\u001b[0;31mTypeError\u001b[0m                                 Traceback (most recent call last)",
      "Cell \u001b[0;32mIn[17], line 5\u001b[0m\n\u001b[1;32m      1\u001b[0m \u001b[39mimport\u001b[39;00m \u001b[39mstatsky_notes\u001b[39;00m\n\u001b[1;32m      3\u001b[0m \u001b[39m#t_tests as pairwise_t_tests\u001b[39;00m\n\u001b[0;32m----> 5\u001b[0m pairwise_t_tests()\n",
      "\u001b[0;31mTypeError\u001b[0m: 'module' object is not callable"
     ]
    }
   ],
   "source": [
    "import pystats\n",
    "\n",
    "#t_tests as pairwise_t_tests\n",
    "\n",
    "pairwise_t_tests()"
   ]
  },
  {
   "cell_type": "code",
   "execution_count": 16,
   "metadata": {},
   "outputs": [
    {
     "ename": "TypeError",
     "evalue": "'module' object is not callable",
     "output_type": "error",
     "traceback": [
      "\u001b[0;31m---------------------------------------------------------------------------\u001b[0m",
      "\u001b[0;31mTypeError\u001b[0m                                 Traceback (most recent call last)",
      "Cell \u001b[0;32mIn[16], line 7\u001b[0m\n\u001b[1;32m      1\u001b[0m data \u001b[39m=\u001b[39m [\n\u001b[1;32m      2\u001b[0m     [\u001b[39m1.2\u001b[39m, \u001b[39m1.3\u001b[39m, \u001b[39m1.5\u001b[39m, \u001b[39m1.6\u001b[39m, \u001b[39m1.7\u001b[39m],\n\u001b[1;32m      3\u001b[0m     [\u001b[39m2.1\u001b[39m, \u001b[39m2.2\u001b[39m, \u001b[39m2.3\u001b[39m, \u001b[39m2.5\u001b[39m, \u001b[39m2.6\u001b[39m],\n\u001b[1;32m      4\u001b[0m     [\u001b[39m3.0\u001b[39m, \u001b[39m3.2\u001b[39m, \u001b[39m3.4\u001b[39m, \u001b[39m3.6\u001b[39m, \u001b[39m3.8\u001b[39m],\n\u001b[1;32m      5\u001b[0m ]\n\u001b[0;32m----> 7\u001b[0m results \u001b[39m=\u001b[39m pairwise_t_tests(data)\n\u001b[1;32m      9\u001b[0m \u001b[39mfor\u001b[39;00m i, j, t_stat, p_value \u001b[39min\u001b[39;00m results:\n\u001b[1;32m     10\u001b[0m     \u001b[39mprint\u001b[39m(\u001b[39mf\u001b[39m\u001b[39m\"\u001b[39m\u001b[39mGroup \u001b[39m\u001b[39m{\u001b[39;00mi\u001b[39m}\u001b[39;00m\u001b[39m vs Group \u001b[39m\u001b[39m{\u001b[39;00mj\u001b[39m}\u001b[39;00m\u001b[39m: t-statistic = \u001b[39m\u001b[39m{\u001b[39;00mt_stat\u001b[39m:\u001b[39;00m\u001b[39m.3f\u001b[39m\u001b[39m}\u001b[39;00m\u001b[39m, p-value = \u001b[39m\u001b[39m{\u001b[39;00mp_value\u001b[39m:\u001b[39;00m\u001b[39m.3f\u001b[39m\u001b[39m}\u001b[39;00m\u001b[39m\"\u001b[39m)\n",
      "\u001b[0;31mTypeError\u001b[0m: 'module' object is not callable"
     ]
    }
   ],
   "source": [
    "\n",
    "data = [\n",
    "    [1.2, 1.3, 1.5, 1.6, 1.7],\n",
    "    [2.1, 2.2, 2.3, 2.5, 2.6],\n",
    "    [3.0, 3.2, 3.4, 3.6, 3.8],\n",
    "]\n",
    "\n",
    "results = pairwise_t_tests(data)\n",
    "\n",
    "for i, j, t_stat, p_value in results:\n",
    "    print(f\"Group {i} vs Group {j}: t-statistic = {t_stat:.3f}, p-value = {p_value:.3f}\")\n"
   ]
  },
  {
   "cell_type": "code",
   "execution_count": 19,
   "metadata": {},
   "outputs": [
    {
     "ename": "ImportError",
     "evalue": "cannot import name 'pairwise_t_test' from 'statsky_notes' (/Users/david/git-repos/StatSkyNotes/statsky_notes/__init__.py)",
     "output_type": "error",
     "traceback": [
      "\u001b[0;31m---------------------------------------------------------------------------\u001b[0m",
      "\u001b[0;31mImportError\u001b[0m                               Traceback (most recent call last)",
      "Cell \u001b[0;32mIn[19], line 1\u001b[0m\n\u001b[0;32m----> 1\u001b[0m \u001b[39mfrom\u001b[39;00m \u001b[39mstatsky_notes\u001b[39;00m \u001b[39mimport\u001b[39;00m pairwise_t_test\n\u001b[1;32m      3\u001b[0m data \u001b[39m=\u001b[39m [\n\u001b[1;32m      4\u001b[0m     [\u001b[39m1.2\u001b[39m, \u001b[39m1.3\u001b[39m, \u001b[39m1.5\u001b[39m, \u001b[39m1.6\u001b[39m, \u001b[39m1.7\u001b[39m],\n\u001b[1;32m      5\u001b[0m     [\u001b[39m2.1\u001b[39m, \u001b[39m2.2\u001b[39m, \u001b[39m2.3\u001b[39m, \u001b[39m2.5\u001b[39m, \u001b[39m2.6\u001b[39m],\n\u001b[1;32m      6\u001b[0m     [\u001b[39m3.0\u001b[39m, \u001b[39m3.2\u001b[39m, \u001b[39m3.4\u001b[39m, \u001b[39m3.6\u001b[39m, \u001b[39m3.8\u001b[39m],\n\u001b[1;32m      7\u001b[0m ]\n\u001b[1;32m      9\u001b[0m results \u001b[39m=\u001b[39m pairwise_t_test(data)\n",
      "\u001b[0;31mImportError\u001b[0m: cannot import name 'pairwise_t_test' from 'statsky_notes' (/Users/david/git-repos/StatSkyNotes/statsky_notes/__init__.py)"
     ]
    }
   ],
   "source": [
    "from statsky_notes import pairwise_t_test\n",
    "\n",
    "data = [\n",
    "    [1.2, 1.3, 1.5, 1.6, 1.7],\n",
    "    [2.1, 2.2, 2.3, 2.5, 2.6],\n",
    "    [3.0, 3.2, 3.4, 3.6, 3.8],\n",
    "]\n",
    "\n",
    "results = pairwise_t_test(data)\n",
    "\n",
    "for i, j, t_stat, p_value in results:\n",
    "    print(f\"Group {i} vs Group {j}: t-statistic = {t_stat:.3f}, p-value = {p_value:.3f}\")\n"
   ]
  },
  {
   "cell_type": "code",
   "execution_count": null,
   "metadata": {},
   "outputs": [],
   "source": [
    "data = [\n",
    "    [1.2, 1.3, 1.5, 1.6, 1.7],\n",
    "    [2.1, 2.2, 2.3, 2.5, 2.6],\n",
    "    [3.0, 3.2, 3.4, 3.6, 3.8],\n",
    "]\n",
    "\n",
    "results = pairwise_t_tests(data)\n",
    "\n",
    "for i, j, t_stat, p_value in results:\n",
    "    print(f\"Group {i} vs Group {j}: t-statistic = {t_stat:.3f}, p-value = {p_value:.3f}\")\n"
   ]
  },
  {
   "cell_type": "code",
   "execution_count": 25,
   "metadata": {},
   "outputs": [],
   "source": [
    "from scipy.stats import ttest_ind\n",
    "\n",
    "def pairwise_t_tests(data):\n",
    "    \"\"\"\n",
    "    Perform pairwise t-tests on experimental data.\n",
    "\n",
    "    :param data: A list of lists, where each inner list represents a group of experimental data.\n",
    "    :return: A list of tuples, each tuple containing four values: the indices of the two groups being compared,\n",
    "             the t-statistic, and the p-value.\n",
    "    \"\"\"\n",
    "    results = []\n",
    "\n",
    "    # Iterate over all pairs of groups\n",
    "    for i in range(len(data)):\n",
    "        for j in range(i + 1, len(data)):\n",
    "            group1 = data[i]\n",
    "            group2 = data[j]\n",
    "\n",
    "            # Perform t-test and store the result\n",
    "            t_stat, p_value = ttest_ind(group1, group2)\n",
    "            results.append((i, j, t_stat, p_value))\n",
    "\n",
    "    return results\n",
    "\n"
   ]
  },
  {
   "cell_type": "code",
   "execution_count": 26,
   "metadata": {},
   "outputs": [
    {
     "name": "stdout",
     "output_type": "stream",
     "text": [
      "Group 0 vs Group 1: t-statistic = -6.710, p-value = 0.000\n",
      "Group 0 vs Group 2: t-statistic = -11.471, p-value = 0.000\n",
      "Group 1 vs Group 2: t-statistic = -6.268, p-value = 0.000\n"
     ]
    }
   ],
   "source": [
    "data = [\n",
    "    [1.2, 1.3, 1.5, 1.6, 1.7],\n",
    "    [2.1, 2.2, 2.3, 2.5, 2.6],\n",
    "    [3.0, 3.2, 3.4, 3.6, 3.8],\n",
    "]\n",
    "\n",
    "results = pairwise_t_tests(data)\n",
    "\n",
    "for i, j, t_stat, p_value in results:\n",
    "    print(f\"Group {i} vs Group {j}: t-statistic = {t_stat:.3f}, p-value = {p_value:.3f}\")\n",
    "\n"
   ]
  },
  {
   "cell_type": "code",
   "execution_count": 34,
   "metadata": {},
   "outputs": [
    {
     "ename": "SyntaxError",
     "evalue": "invalid syntax (957578844.py, line 2)",
     "output_type": "error",
     "traceback": [
      "\u001b[0;36m  Cell \u001b[0;32mIn[34], line 2\u001b[0;36m\u001b[0m\n\u001b[0;31m    pairwise_t_tests(data)\u001b[0m\n\u001b[0m    ^\u001b[0m\n\u001b[0;31mSyntaxError\u001b[0m\u001b[0;31m:\u001b[0m invalid syntax\n"
     ]
    }
   ],
   "source": []
  },
  {
   "cell_type": "code",
   "execution_count": 48,
   "metadata": {},
   "outputs": [
    {
     "data": {
      "text/plain": [
       "[(0, 1, -6.709937094634608, 0.00015115040806165856),\n",
       " (0, 2, -11.471460482188204, 3.01962156922524e-06),\n",
       " (1, 2, -6.2679113974842755, 0.0002409916452179639)]"
      ]
     },
     "execution_count": 48,
     "metadata": {},
     "output_type": "execute_result"
    }
   ],
   "source": [
    "pairwise_t_tests(data)\n",
    "\n",
    "\n"
   ]
  },
  {
   "cell_type": "code",
   "execution_count": null,
   "metadata": {},
   "outputs": [],
   "source": []
  },
  {
   "cell_type": "code",
   "execution_count": 49,
   "metadata": {},
   "outputs": [],
   "source": [
    "from typing import Callable, Any\n",
    "from tqdm import tqdm\n",
    "import time\n",
    "\n",
    "class ProgressBar:\n",
    "    def __init__(self, func: Callable[..., Any]):\n",
    "        self.func = func\n",
    "\n",
    "    def __call__(self, *args, **kwargs):\n",
    "        # Set up the progress bar\n",
    "        with tqdm(total=100) as pbar:\n",
    "            # Wrap the original function with a progress-updating function\n",
    "            def update_progress(*args, **kwargs):\n",
    "                result = self.func(*args, **kwargs)\n",
    "                pbar.update(1)\n",
    "                return result\n",
    "\n",
    "            # Call the original function with the progress-updating wrapper\n",
    "            result = update_progress(*args, **kwargs)\n",
    "\n",
    "            # Wait until the progress bar is full\n",
    "            while pbar.n < pbar.total:\n",
    "                pbar.update(0)\n",
    "                time.sleep(0.1)\n",
    "\n",
    "            return result\n",
    "\n",
    "\n",
    "import time\n",
    "\n",
    "def dummy_function(seconds: float):\n",
    "    time.sleep(seconds)\n",
    "\n",
    "\n",
    "# Wrap the dummy_function with a progress bar\n",
    "progress_dummy_function = ProgressBar(dummy_function)\n",
    "\n",
    "# Call the wrapped function\n",
    "#progress_dummy_function(.1)\n"
   ]
  },
  {
   "cell_type": "code",
   "execution_count": 52,
   "metadata": {},
   "outputs": [
    {
     "name": "stderr",
     "output_type": "stream",
     "text": [
      "  1%|          | 1/100 [00:29<47:52, 29.02s/it]\n"
     ]
    },
    {
     "ename": "KeyboardInterrupt",
     "evalue": "",
     "output_type": "error",
     "traceback": [
      "\u001b[0;31m---------------------------------------------------------------------------\u001b[0m",
      "\u001b[0;31mKeyboardInterrupt\u001b[0m                         Traceback (most recent call last)",
      "Cell \u001b[0;32mIn[52], line 2\u001b[0m\n\u001b[1;32m      1\u001b[0m prog_pairwise_t_tests \u001b[39m=\u001b[39m ProgressBar(pairwise_t_tests)\n\u001b[0;32m----> 2\u001b[0m prog_pairwise_t_tests(data)\n",
      "Cell \u001b[0;32mIn[49], line 24\u001b[0m, in \u001b[0;36mProgressBar.__call__\u001b[0;34m(self, *args, **kwargs)\u001b[0m\n\u001b[1;32m     22\u001b[0m \u001b[39mwhile\u001b[39;00m pbar\u001b[39m.\u001b[39mn \u001b[39m<\u001b[39m pbar\u001b[39m.\u001b[39mtotal:\n\u001b[1;32m     23\u001b[0m     pbar\u001b[39m.\u001b[39mupdate(\u001b[39m0\u001b[39m)\n\u001b[0;32m---> 24\u001b[0m     time\u001b[39m.\u001b[39;49msleep(\u001b[39m0.1\u001b[39;49m)\n\u001b[1;32m     26\u001b[0m \u001b[39mreturn\u001b[39;00m result\n",
      "\u001b[0;31mKeyboardInterrupt\u001b[0m: "
     ]
    }
   ],
   "source": [
    "prog_pairwise_t_tests = ProgressBar(pairwise_t_tests)\n",
    "prog_pairwise_t_tests(data)"
   ]
  },
  {
   "cell_type": "code",
   "execution_count": 53,
   "metadata": {},
   "outputs": [],
   "source": [
    "from typing import List, Tuple\n",
    "from scipy.stats import ttest_ind\n",
    "from tqdm import tqdm\n",
    "\n",
    "def pairwise_t_tests(data: List[List[float]]) -> List[Tuple[int, int, float, float]]:\n",
    "    \"\"\"\n",
    "    Perform pairwise t-tests on experimental data.\n",
    "\n",
    "    :param data: A list of lists, where each inner list represents a group of experimental data.\n",
    "    :return: A list of tuples, each tuple containing four values: the indices of the two groups being compared,\n",
    "             the t-statistic, and the p-value.\n",
    "    \"\"\"\n",
    "    results = []\n",
    "    num_comparisons = len(data) * (len(data) - 1) // 2\n",
    "    with tqdm(total=num_comparisons) as pbar:\n",
    "        # Iterate over all pairs of groups\n",
    "        for i in range(len(data)):\n",
    "            for j in range(i + 1, len(data)):\n",
    "                group1 = data[i]\n",
    "                group2 = data[j]\n",
    "\n",
    "                # Perform t-test and store the result\n",
    "                t_stat, p_value = ttest_ind(group1, group2)\n",
    "                results.append((i, j, t_stat, p_value))\n",
    "\n",
    "                pbar.update(1)\n",
    "\n",
    "    return results\n"
   ]
  },
  {
   "cell_type": "code",
   "execution_count": 57,
   "metadata": {},
   "outputs": [],
   "source": [
    "from typing import List, Tuple\n",
    "from scipy.stats import ttest_ind\n",
    "from tqdm import tqdm\n",
    "import matplotlib.pyplot as plt\n",
    "import numpy as np\n",
    "\n",
    "def pairwise_t_tests(data: List[List[float]]) -> List[Tuple[int, int, float, float]]:\n",
    "    \"\"\"\n",
    "    Perform pairwise t-tests on experimental data.\n",
    "\n",
    "    :param data: A list of lists, where each inner list represents a group of experimental data.\n",
    "    :return: A list of tuples, each tuple containing four values: the indices of the two groups being compared,\n",
    "             the t-statistic, and the p-value.\n",
    "    \"\"\"\n",
    "    results = []\n",
    "    num_comparisons = len(data) * (len(data) - 1) // 2\n",
    "    with tqdm(total=num_comparisons) as pbar:\n",
    "        # Iterate over all pairs of groups\n",
    "        for i in range(len(data)):\n",
    "            for j in range(i + 1, len(data)):\n",
    "                group1 = data[i]\n",
    "                group2 = data[j]\n",
    "\n",
    "                # Perform t-test and store the result\n",
    "                t_stat, p_value = ttest_ind(group1, group2)\n",
    "                results.append((i, j, t_stat, p_value))\n",
    "\n",
    "                # Create a bar plot of the two groups\n",
    "                fig, ax = plt.subplots()\n",
    "                ax.bar([f'Group {i+1}', f'Group {j+1}'], [np.mean(group1), np.mean(group2)])\n",
    "                ax.set_ylabel('Mean')\n",
    "                ax.set_title(f'Comparison of Group {i+1} and Group {j+1}')\n",
    "\n",
    "                pbar.update(1)\n",
    "\n",
    "    return results\n"
   ]
  },
  {
   "cell_type": "code",
   "execution_count": null,
   "metadata": {},
   "outputs": [],
   "source": [
    "from typing import List, Tuple\n",
    "from scipy.stats import ttest_ind\n",
    "from tqdm import tqdm\n",
    "import matplotlib.pyplot as plt\n",
    "import numpy as np\n",
    "\n",
    "def pairwise_t_tests(data: List[List[float]]) -> List[Tuple[int, int, float, float]]:\n",
    "    \"\"\"\n",
    "    Perform pairwise t-tests on experimental data.\n",
    "\n",
    "    :param data: A list of lists, where each inner list represents a group of experimental data.\n",
    "    :return: A list of tuples, each tuple containing four values: the indices of the two groups being compared,\n",
    "             the t-statistic, and the p-value.\n",
    "    \"\"\"\n",
    "    results = []\n",
    "    num_comparisons = len(data) * (len(data) - 1) // 2\n",
    "    with tqdm(total=num_comparisons) as pbar:\n",
    "        # Iterate over all pairs of groups\n",
    "        for i in range(len(data)):\n",
    "            for j in range(i + 1, len(data)):\n",
    "                group1 = data[i]\n",
    "                group2 = data[j]\n",
    "\n",
    "                # Perform t-test and store the result\n",
    "                t_stat, p_value = ttest_ind(group1, group2)\n",
    "                results.append((i, j, t_stat, p_value))\n",
    "\n",
    "                # Create a bar plot of the two groups with confidence interval bars\n",
    "                fig, ax = plt.subplots()\n",
    "                means = [np.mean(group1), np.mean(group2)]\n",
    "                sems = [np.std(group1) / np.sqrt(len(group1)), np.std(group2) / np.sqrt(len(group2))]\n",
    "                cis = [1.96 * sem for sem in sems]\n",
    "                ax.bar([f'Group {i+1}', f'Group {j+1}'], means, yerr=cis, capsize=10)\n",
    "                ax.set_ylabel('Mean')\n",
    "                ax.set_title(f'Comparison of Group {i+1} and Group {j+1}')\n",
    "\n",
    "                pbar.update(1)\n",
    "\n",
    "    return results\n"
   ]
  },
  {
   "cell_type": "code",
   "execution_count": 60,
   "metadata": {},
   "outputs": [],
   "source": [
    "from typing import List, Tuple\n",
    "from scipy.stats import ttest_ind\n",
    "from tqdm import tqdm\n",
    "import matplotlib.pyplot as plt\n",
    "import numpy as np\n",
    "\n",
    "def pairwise_t_tests(data: List[List[float]]) -> List[Tuple[int, int, float, float]]:\n",
    "    \"\"\"\n",
    "    Perform pairwise t-tests on experimental data.\n",
    "\n",
    "    :param data: A list of lists, where each inner list represents a group of experimental data.\n",
    "    :return: A list of tuples, each tuple containing four values: the indices of the two groups being compared,\n",
    "             the t-statistic, and the p-value.\n",
    "    \"\"\"\n",
    "    results = []\n",
    "    num_comparisons = len(data) * (len(data) - 1) // 2\n",
    "    with tqdm(total=num_comparisons) as pbar:\n",
    "        # Iterate over all pairs of groups\n",
    "        for i in range(len(data)):\n",
    "            for j in range(i + 1, len(data)):\n",
    "                group1 = data[i]\n",
    "                group2 = data[j]\n",
    "\n",
    "                # Perform t-test and store the result\n",
    "                t_stat, p_value = ttest_ind(group1, group2)\n",
    "                results.append((i, j, t_stat, p_value))\n",
    "\n",
    "                # Create a bar plot of the two groups with confidence interval bars\n",
    "                fig, ax = plt.subplots()\n",
    "                means = [np.mean(group1), np.mean(group2)]\n",
    "                sems = [np.std(group1) / np.sqrt(len(group1)), np.std(group2) / np.sqrt(len(group2))]\n",
    "                cis = [1.96 * sem for sem in sems]\n",
    "                ax.bar([f'Group {i+1}', f'Group {j+1}'], means, yerr=cis, capsize=10)\n",
    "                ax.set_ylabel('Mean')\n",
    "                ax.set_title(f'Comparison of Group {i+1} and Group {j+1}')\n",
    "\n",
    "                pbar.update(1)\n",
    "\n",
    "    return results\n"
   ]
  },
  {
   "cell_type": "code",
   "execution_count": 79,
   "metadata": {},
   "outputs": [],
   "source": [
    "from typing import List, Tuple\n",
    "from scipy.stats import ttest_ind\n",
    "from tqdm import tqdm\n",
    "import matplotlib.pyplot as plt\n",
    "import numpy as np\n",
    "\n",
    "def pairwise_t_tests(data: List[List[float]]) -> List[Tuple[int, int, float, float]]:\n",
    "    \"\"\"\n",
    "    Perform pairwise t-tests on experimental data.\n",
    "\n",
    "    :param data: A list of lists, where each inner list represents a group of experimental data.\n",
    "    :return: A list of tuples, each tuple containing four values: the indices of the two groups being compared,\n",
    "             the t-statistic, and the p-value.\n",
    "    \"\"\"\n",
    "    results = []\n",
    "    num_comparisons = len(data) * (len(data) - 1) // 2\n",
    "    with tqdm(total=num_comparisons) as pbar:\n",
    "        # Iterate over all pairs of groups\n",
    "        for i in range(len(data)):\n",
    "            for j in range(i + 1, len(data)):\n",
    "                group1 = data[i]\n",
    "                group2 = data[j]\n",
    "\n",
    "                # Perform t-test and store the result\n",
    "                t_stat, p_value = ttest_ind(group1, group2)\n",
    "                results.append((i, j, t_stat, p_value))\n",
    "\n",
    "                # Create a bar plot of the two groups with colored confidence interval bars\n",
    "                fig, ax = plt.subplots()\n",
    "                means = [np.mean(group1), np.mean(group2)]\n",
    "                sems = [np.std(group1) / np.sqrt(len(group1)), np.std(group2) / np.sqrt(len(group2))]\n",
    "                cis = [1.96 * sem for sem in sems]\n",
    "                if p_value < 0.05:\n",
    "                    colors = ['blue', 'green']\n",
    "                else:\n",
    "                    colors = ['grey', 'grey']\n",
    "                ax.bar([f'Group {i+1}', f'Group {j+1}'], means, yerr=cis, capsize=10, color=colors)\n",
    "                ax.set_ylabel('Mean')\n",
    "                ax.set_title(f'Comparison of Group {i+1} and Group {j+1}')\n",
    "\n",
    "                pbar.update(1)\n",
    "\n",
    "    return results\n"
   ]
  },
  {
   "cell_type": "code",
   "execution_count": null,
   "metadata": {},
   "outputs": [],
   "source": []
  },
  {
   "cell_type": "code",
   "execution_count": 80,
   "metadata": {},
   "outputs": [
    {
     "name": "stderr",
     "output_type": "stream",
     "text": [
      "100%|██████████| 3/3 [00:00<00:00, 132.32it/s]\n"
     ]
    },
    {
     "data": {
      "text/plain": [
       "[(0, 1, -6.709937094634608, 0.00015115040806165856),\n",
       " (0, 2, -11.471460482188204, 3.01962156922524e-06),\n",
       " (1, 2, -6.2679113974842755, 0.0002409916452179639)]"
      ]
     },
     "execution_count": 80,
     "metadata": {},
     "output_type": "execute_result"
    },
    {
     "data": {
      "image/png": "[encoded data removed]",
      "text/plain": [
       "<Figure size 640x480 with 1 Axes>"
      ]
     },
     "metadata": {},
     "output_type": "display_data"
    },
    {
     "data": {
      "image/png": "[encoded data removed]",
      "text/plain": [
       "<Figure size 640x480 with 1 Axes>"
      ]
     },
     "metadata": {},
     "output_type": "display_data"
    },
    {
     "data": {
      "image/png": "[encoded data removed]",
      "text/plain": [
       "<Figure size 640x480 with 1 Axes>"
      ]
     },
     "metadata": {},
     "output_type": "display_data"
    }
   ],
   "source": [
    "pairwise_t_tests(data)"
   ]
  },
  {
   "cell_type": "code",
   "execution_count": 82,
   "metadata": {},
   "outputs": [],
   "source": [
    "from typing import Tuple\n",
    "from statsmodels.stats.power import TTestIndPower\n",
    "\n",
    "def calculate_sample_size(\n",
    "    effect_size: float, alpha: float, power: float\n",
    ") -> Tuple[int, int]:\n",
    "    \"\"\"\n",
    "    Calculate the required sample size for a two-sample independent t-test.\n",
    "\n",
    "    :param effect_size: The standardized effect size (Cohen's d) to detect.\n",
    "    :param alpha: The desired significance level (Type I error rate).\n",
    "    :param power: The desired statistical power (1 - Type II error rate).\n",
    "    :return: A tuple containing the calculated sample size for each group.\n",
    "    \"\"\"\n",
    "    power_analysis = TTestIndPower()\n",
    "    sample_size = power_analysis.solve_power(\n",
    "        effect_size=effect_size, alpha=alpha, power=power, ratio=1.0\n",
    "    )\n",
    "    return int(round(sample_size)), int(round(sample_size))\n"
   ]
  },
  {
   "cell_type": "code",
   "execution_count": 84,
   "metadata": {},
   "outputs": [],
   "source": [
    "from typing import List\n",
    "from statsmodels.stats.power import TTestIndPower\n",
    "\n",
    "def calculate_sample_size(\n",
    "    effect_size: float, alpha: float, power: float, num_groups: int = 2\n",
    ") -> List[int]:\n",
    "    \"\"\"\n",
    "    Calculate the required sample size for multiple-group independent t-tests.\n",
    "\n",
    "    :param effect_size: The standardized effect size (Cohen's d) to detect.\n",
    "    :param alpha: The desired significance level (Type I error rate).\n",
    "    :param power: The desired statistical power (1 - Type II error rate).\n",
    "    :param num_groups: The number of groups (default is 2 for a two-sample t-test).\n",
    "    :return: A list containing the calculated sample size for each group.\n",
    "    \"\"\"\n",
    "    if num_groups < 2:\n",
    "        raise ValueError(\"The number of groups must be at least 2.\")\n",
    "\n",
    "    power_analysis = TTestIndPower()\n",
    "    sample_size = power_analysis.solve_power(\n",
    "        effect_size=effect_size, alpha=alpha, power=power, ratio=1.0\n",
    "    )\n",
    "\n",
    "    sample_size_per_group = int(round(sample_size))\n",
    "    return [sample_size_per_group] * num_groups\n"
   ]
  },
  {
   "cell_type": "code",
   "execution_count": 87,
   "metadata": {},
   "outputs": [
    {
     "name": "stdout",
     "output_type": "stream",
     "text": [
      "Required sample size for 2 groups: [64, 64]\n",
      "Required sample size for 3 groups: [64, 64, 64]\n",
      "Required sample size for 4 groups: [64, 64, 64, 64]\n",
      "Required sample size for 5 groups: [64, 64, 64, 64, 64]\n",
      "Required sample size for 6 groups: [64, 64, 64, 64, 64, 64]\n",
      "Required sample size for 7 groups: [64, 64, 64, 64, 64, 64, 64]\n",
      "Required sample size for 8 groups: [64, 64, 64, 64, 64, 64, 64, 64]\n",
      "Required sample size for 9 groups: [64, 64, 64, 64, 64, 64, 64, 64, 64]\n",
      "Required sample size for 10 groups: [64, 64, 64, 64, 64, 64, 64, 64, 64, 64]\n"
     ]
    }
   ],
   "source": [
    "\n",
    "\n",
    "\n",
    "effect_size = 0.5  # Medium effect size\n",
    "alpha = 0.05  # 5% significance level\n",
    "power = 0.8  # 80% statistical power\n",
    "\n",
    "for num_groups in range(2, 11):\n",
    "    sample_sizes = calculate_sample_size(effect_size, alpha, power, num_groups)\n",
    "    print(f\"Required sample size for {num_groups} groups: {sample_sizes}\")\n"
   ]
  },
  {
   "cell_type": "code",
   "execution_count": 88,
   "metadata": {},
   "outputs": [],
   "source": [
    "from typing import List\n",
    "from statsmodels.stats.power import TTestIndPower\n",
    "\n",
    "def calculate_sample_size(\n",
    "    effect_size: float,\n",
    "    alpha: float,\n",
    "    power: float,\n",
    "    ratios: List[float],\n",
    ") -> List[int]:\n",
    "    \"\"\"\n",
    "    Calculate the required sample size for multiple-group independent t-tests with specified ratios.\n",
    "\n",
    "    :param effect_size: The standardized effect size (Cohen's d) to detect.\n",
    "    :param alpha: The desired significance level (Type I error rate).\n",
    "    :param power: The desired statistical power (1 - Type II error rate).\n",
    "    :param ratios: A list of ratios for each group (must sum to 1).\n",
    "    :return: A list containing the calculated sample size for each group.\n",
    "    \"\"\"\n",
    "    if len(ratios) < 2:\n",
    "        raise ValueError(\"The number of groups must be at least 2.\")\n",
    "\n",
    "    if not (0.99 <= sum(ratios) <= 1.01):\n",
    "        raise ValueError(\"The ratios must sum to 1.\")\n",
    "\n",
    "    power_analysis = TTestIndPower()\n",
    "    sample_size_total = power_analysis.solve_power(\n",
    "        effect_size=effect_size, alpha=alpha, power=power, ratio=sum(ratios) / len(ratios)\n",
    "    )\n",
    "\n",
    "    sample_sizes = [int(round(sample_size_total * ratio)) for ratio in ratios]\n",
    "    return sample_sizes\n"
   ]
  },
  {
   "cell_type": "code",
   "execution_count": 90,
   "metadata": {},
   "outputs": [
    {
     "name": "stdout",
     "output_type": "stream",
     "text": [
      "Required sample size for groups with ratios [0.25, 0.25, 0.25, 0.25]: [40, 40, 40, 40]\n",
      "Required sample size for groups with ratios [0.85, 0.05, 0.05, 0.05]: [135, 8, 8, 8]\n"
     ]
    }
   ],
   "source": [
    "\n",
    "effect_size = 0.5  # Medium effect size\n",
    "alpha = 0.05  # 5% significance level\n",
    "power = 0.8  # 80% statistical power\n",
    "\n",
    "ratios_list = [\n",
    "    [0.25, 0.25, 0.25, 0.25],\n",
    "    [0.85, 0.05, 0.05, 0.05],\n",
    "]\n",
    "\n",
    "for ratios in ratios_list:\n",
    "    sample_sizes = calculate_sample_size(effect_size, alpha, power, ratios)\n",
    "    print(f\"Required sample size for groups with ratios {ratios}: {sample_sizes}\")\n"
   ]
  },
  {
   "cell_type": "code",
   "execution_count": 91,
   "metadata": {},
   "outputs": [],
   "source": [
    "from typing import List, Tuple\n",
    "from statsmodels.stats.power import TTestIndPower\n",
    "\n",
    "def calculate_sample_size(\n",
    "    effect_size: float,\n",
    "    alpha: float,\n",
    "    power: float,\n",
    "    ratios: List[float],\n",
    ") -> Tuple[List[int], float]:\n",
    "    \"\"\"\n",
    "    Calculate the required sample size for multiple-group independent t-tests with specified ratios,\n",
    "    and return the minimum detectable effect.\n",
    "\n",
    "    :param effect_size: The standardized effect size (Cohen's d) to detect.\n",
    "    :param alpha: The desired significance level (Type I error rate).\n",
    "    :param power: The desired statistical power (1 - Type II error rate).\n",
    "    :param ratios: A list of ratios for each group (must sum to 1).\n",
    "    :return: A tuple containing a list of the calculated sample size for each group and the MDE.\n",
    "    \"\"\"\n",
    "    if len(ratios) < 2:\n",
    "        raise ValueError(\"The number of groups must be at least 2.\")\n",
    "\n",
    "    if not (0.99 <= sum(ratios) <= 1.01):\n",
    "        raise ValueError(\"The ratios must sum to 1.\")\n",
    "\n",
    "    power_analysis = TTestIndPower()\n",
    "    sample_size_total = power_analysis.solve_power(\n",
    "        effect_size=effect_size, alpha=alpha, power=power, ratio=sum(ratios) / len(ratios)\n",
    "    )\n",
    "\n",
    "    sample_sizes = [int(round(sample_size_total * ratio)) for ratio in ratios]\n",
    "    return sample_sizes, effect_size\n"
   ]
  },
  {
   "cell_type": "code",
   "execution_count": 96,
   "metadata": {},
   "outputs": [
    {
     "name": "stdout",
     "output_type": "stream",
     "text": [
      "Required sample size for groups with ratios [0.25, 0.25, 0.25, 0.25]: [40, 40, 40, 40], MDE: 0.5\n",
      "Required sample size for groups with ratios [0.85, 0.05, 0.05, 0.05]: [135, 8, 8, 8], MDE: 0.5\n"
     ]
    }
   ],
   "source": [
    "\n",
    "effect_size = 0.5  # Medium effect size\n",
    "alpha = 0.05  # 5% significance level\n",
    "power = 0.8  # 80% statistical power\n",
    "\n",
    "ratios_list = [\n",
    "    [0.25, 0.25, 0.25, 0.25],\n",
    "    [0.85, 0.05, 0.05, 0.05],\n",
    "]\n",
    "\n",
    "for ratios in ratios_list:\n",
    "    sample_sizes, mde = calculate_sample_size(effect_size, alpha, power, ratios)\n",
    "    print(f\"Required sample size for groups with ratios {ratios}: {sample_sizes}, MDE: {mde}\")\n"
   ]
  },
  {
   "cell_type": "code",
   "execution_count": 102,
   "metadata": {},
   "outputs": [],
   "source": [
    "import pystats.t_tests\n"
   ]
  },
  {
   "cell_type": "code",
   "execution_count": null,
   "metadata": {},
   "outputs": [],
   "source": []
  },
  {
   "cell_type": "code",
   "execution_count": 103,
   "metadata": {},
   "outputs": [],
   "source": [
    "from typing import List, Tuple\n",
    "\n",
    "def detect_outliers(\n",
    "    data: List[float], factor: float = 1.5, remove: bool = False\n",
    ") -> Tuple[List[float], List[int]]:\n",
    "    \"\"\"\n",
    "    Detect outliers in the data using the IQR method.\n",
    "\n",
    "    :param data: A list of numeric data.\n",
    "    :param factor: The IQR factor to use for detecting outliers (default: 1.5).\n",
    "    :param remove: Whether to remove the outliers from the data (default: False).\n",
    "    :return: A tuple containing the processed data and the indices of the detected outliers.\n",
    "    \"\"\"\n",
    "    q1 = np.percentile(data, 25)\n",
    "    q3 = np.percentile(data, 75)\n",
    "    iqr = q3 - q1\n",
    "\n",
    "    lower_bound = q1 - factor * iqr\n",
    "    upper_bound = q3 + factor * iqr\n",
    "\n",
    "    outlier_indices = [\n",
    "        index for index, value in enumerate(data) if value < lower_bound or value > upper_bound\n",
    "    ]\n",
    "\n",
    "    if remove:\n",
    "        data = [value for value in data if lower_bound <= value <= upper_bound]\n",
    "\n",
    "    return data, outlier_indices\n"
   ]
  },
  {
   "cell_type": "code",
   "execution_count": 105,
   "metadata": {},
   "outputs": [
    {
     "name": "stdout",
     "output_type": "stream",
     "text": [
      "Processed data (outliers removed): [1.2, 1.3, 1.5, 1.6, 1.7, 3.0, 3.2, 3.4, 3.6, 3.8]\n",
      "Outlier indices: [10]\n"
     ]
    }
   ],
   "source": [
    "\n",
    "data = [1.2, 1.3, 1.5, 1.6, 1.7, 3.0, 3.2, 3.4, 3.6, 3.8, 500]\n",
    "processed_data, outlier_indices = detect_outliers(data, remove=True)\n",
    "\n",
    "print(f\"Processed data (outliers removed): {processed_data}\")\n",
    "print(f\"Outlier indices: {outlier_indices}\")\n"
   ]
  },
  {
   "cell_type": "code",
   "execution_count": 106,
   "metadata": {},
   "outputs": [],
   "source": [
    "from typing import List, Tuple\n",
    "\n",
    "def detect_outliers(\n",
    "    data: List[float], factor: float = 1.5, remove: bool = False\n",
    ") -> Tuple[List[float], List[int], List[float]]:\n",
    "    \"\"\"\n",
    "    Detect outliers in the data using the IQR method.\n",
    "\n",
    "    :param data: A list of numeric data.\n",
    "    :param factor: The IQR factor to use for detecting outliers (default: 1.5).\n",
    "    :param remove: Whether to remove the outliers from the data (default: False).\n",
    "    :return: A tuple containing the processed data, the indices of the detected outliers, and the outlier values.\n",
    "    \"\"\"\n",
    "    q1 = np.percentile(data, 25)\n",
    "    q3 = np.percentile(data, 75)\n",
    "    iqr = q3 - q1\n",
    "\n",
    "    lower_bound = q1 - factor * iqr\n",
    "    upper_bound = q3 + factor * iqr\n",
    "\n",
    "    outlier_indices = [\n",
    "        index for index, value in enumerate(data) if value < lower_bound or value > upper_bound\n",
    "    ]\n",
    "\n",
    "    outlier_values = [data[index] for index in outlier_indices]\n",
    "\n",
    "    if remove:\n",
    "        data = [value for value in data if lower_bound <= value <= upper_bound]\n",
    "\n",
    "    return data, outlier_indices, outlier_values\n"
   ]
  },
  {
   "cell_type": "code",
   "execution_count": 110,
   "metadata": {},
   "outputs": [
    {
     "name": "stdout",
     "output_type": "stream",
     "text": [
      "Processed data (outliers removed): [1.2, 1.3, 1.5, 1.6, 1.7, 3.0, 3.2, 3.4, 3.6, 3.8]\n",
      "Outlier indices: [10]\n",
      "Outlier values: [500]\n"
     ]
    }
   ],
   "source": [
    "\n",
    "data = [1.2, 1.3, 1.5, 1.6, 1.7, 3.0, 3.2, 3.4, 3.6, 3.8, 500]\n",
    "processed_data, outlier_indices, outlier_values = detect_outliers(data, remove=True)\n",
    "\n",
    "print(f\"Processed data (outliers removed): {processed_data}\")\n",
    "print(f\"Outlier indices: {outlier_indices}\")\n",
    "print(f\"Outlier values: {outlier_values}\")\n"
   ]
  },
  {
   "cell_type": "code",
   "execution_count": 112,
   "metadata": {},
   "outputs": [
    {
     "data": {
      "text/plain": [
       "<function __main__.detect_outliers(data: List[float], factor: float = 1.5, remove: bool = False) -> Tuple[List[float], List[int], List[float]]>"
      ]
     },
     "execution_count": 112,
     "metadata": {},
     "output_type": "execute_result"
    }
   ],
   "source": [
    "detect_outliers"
   ]
  },
  {
   "cell_type": "code",
   "execution_count": 111,
   "metadata": {},
   "outputs": [],
   "source": [
    "import pandas as pd\n",
    "\n",
    "def basic_eda(df: pd.DataFrame) -> None:\n",
    "    \"\"\"\n",
    "    Perform basic exploratory data analysis on a DataFrame's columns.\n",
    "\n",
    "    :param df: A pandas DataFrame.\n",
    "    \"\"\"\n",
    "    print(\"Summary statistics:\")\n",
    "    print(df.describe())\n",
    "    \n",
    "    print(\"\\nData types:\")\n",
    "    print(df.dtypes)\n",
    "\n",
    "    print(\"\\nMissing values:\")\n",
    "    print(df.isnull().sum())\n",
    "\n",
    "    print(\"\\nUnique values:\")\n",
    "    for col in df.columns:\n",
    "        print(f\"{col}: {df[col].nunique()}\")\n",
    "\n",
    "    print(\"\\nFirst 5 rows:\")\n",
    "    print(df.head())\n"
   ]
  },
  {
   "cell_type": "code",
   "execution_count": 113,
   "metadata": {},
   "outputs": [
    {
     "name": "stdout",
     "output_type": "stream",
     "text": [
      "Summary statistics:\n",
      "              A         B\n",
      "count  5.000000  4.000000\n",
      "mean   3.000000  2.400000\n",
      "std    1.581139  0.182574\n",
      "min    1.000000  2.200000\n",
      "25%    2.000000  2.275000\n",
      "50%    3.000000  2.400000\n",
      "75%    4.000000  2.525000\n",
      "max    5.000000  2.600000\n",
      "\n",
      "Data types:\n",
      "A      int64\n",
      "B    float64\n",
      "C     object\n",
      "dtype: object\n",
      "\n",
      "Missing values:\n",
      "A    0\n",
      "B    1\n",
      "C    0\n",
      "dtype: int64\n",
      "\n",
      "Unique values:\n",
      "A: 5\n",
      "B: 4\n",
      "C: 3\n",
      "\n",
      "First 5 rows:\n",
      "   A    B       C\n",
      "0  1  2.2   apple\n",
      "1  2  2.3  orange\n",
      "2  3  2.5  banana\n",
      "3  4  2.6   apple\n",
      "4  5  NaN  orange\n"
     ]
    }
   ],
   "source": [
    "import pandas as pd\n",
    "\n",
    "data = {\n",
    "    \"A\": [1, 2, 3, 4, 5],\n",
    "    \"B\": [2.2, 2.3, 2.5, 2.6, None],\n",
    "    \"C\": [\"apple\", \"orange\", \"banana\", \"apple\", \"orange\"],\n",
    "}\n",
    "\n",
    "df = pd.DataFrame(data)\n",
    "basic_eda(df)\n"
   ]
  },
  {
   "cell_type": "code",
   "execution_count": 114,
   "metadata": {},
   "outputs": [],
   "source": [
    "import pandas as pd\n",
    "\n",
    "def basic_eda(df: pd.DataFrame) -> None:\n",
    "    \"\"\"\n",
    "    Perform basic exploratory data analysis on a DataFrame's columns.\n",
    "\n",
    "    :param df: A pandas DataFrame.\n",
    "    \"\"\"\n",
    "    print(\"Summary statistics:\")\n",
    "    print(df.describe())\n",
    "    \n",
    "    print(\"\\nData types:\")\n",
    "    print(df.dtypes)\n",
    "\n",
    "    print(\"\\nMissing values:\")\n",
    "    print(df.isnull().sum())\n",
    "\n",
    "    print(\"\\nUnique values:\")\n",
    "    for col in df.columns:\n",
    "        print(f\"{col}: {df[col].nunique()}\")\n",
    "\n",
    "    print(\"\\nFirst 5 rows:\")\n",
    "    print(df.head())\n",
    "\n",
    "    print(\"\\nCorrelations:\")\n",
    "    print(df.corr())\n"
   ]
  },
  {
   "cell_type": "code",
   "execution_count": 117,
   "metadata": {},
   "outputs": [
    {
     "name": "stdout",
     "output_type": "stream",
     "text": [
      "Summary statistics:\n",
      "              A         B          C\n",
      "count  5.000000  4.000000   5.000000\n",
      "mean   3.000000  2.400000   8.000000\n",
      "std    1.581139  0.182574   1.581139\n",
      "min    1.000000  2.200000   6.000000\n",
      "25%    2.000000  2.275000   7.000000\n",
      "50%    3.000000  2.400000   8.000000\n",
      "75%    4.000000  2.525000   9.000000\n",
      "max    5.000000  2.600000  10.000000\n",
      "\n",
      "Data types:\n",
      "A      int64\n",
      "B    float64\n",
      "C      int64\n",
      "D     object\n",
      "dtype: object\n",
      "\n",
      "Missing values:\n",
      "A    0\n",
      "B    1\n",
      "C    0\n",
      "D    0\n",
      "dtype: int64\n",
      "\n",
      "Unique values:\n",
      "A: 5\n",
      "B: 4\n",
      "C: 5\n",
      "D: 3\n",
      "\n",
      "First 5 rows:\n",
      "   A    B   C       D\n",
      "0  1  2.2   6   apple\n",
      "1  2  2.3   7  orange\n",
      "2  3  2.5   8  banana\n",
      "3  4  2.6   9   apple\n",
      "4  5  NaN  10  orange\n",
      "\n",
      "Correlations:\n",
      "          A         B         C\n",
      "A  1.000000  0.989949  1.000000\n",
      "B  0.989949  1.000000  0.989949\n",
      "C  1.000000  0.989949  1.000000\n",
      "\n",
      "Correlations with background gradient:\n"
     ]
    },
    {
     "name": "stderr",
     "output_type": "stream",
     "text": [
      "/var/folders/1h/dsxf52596sl3nhrrkw898q740000gn/T/ipykernel_2604/779661306.py:26: FutureWarning: The default value of numeric_only in DataFrame.corr is deprecated. In a future version, it will default to False. Select only valid columns or specify the value of numeric_only to silence this warning.\n",
      "  corr = df.corr()\n",
      "/var/folders/1h/dsxf52596sl3nhrrkw898q740000gn/T/ipykernel_2604/779661306.py:30: FutureWarning: this method is deprecated in favour of `Styler.format(precision=..)`\n",
      "  corr_styled = corr.style.background_gradient().set_precision(2)\n"
     ]
    },
    {
     "data": {
      "text/html": [
       "<style type=\"text/css\">\n",
       "#T_30f75_row0_col0, #T_30f75_row0_col2, #T_30f75_row1_col1, #T_30f75_row2_col0, #T_30f75_row2_col2 {\n",
       "  background-color: #023858;\n",
       "  color: #f1f1f1;\n",
       "}\n",
       "#T_30f75_row0_col1, #T_30f75_row1_col0, #T_30f75_row1_col2, #T_30f75_row2_col1 {\n",
       "  background-color: #fff7fb;\n",
       "  color: #000000;\n",
       "}\n",
       "</style>\n",
       "<table id=\"T_30f75\">\n",
       "  <thead>\n",
       "    <tr>\n",
       "      <th class=\"blank level0\" >&nbsp;</th>\n",
       "      <th id=\"T_30f75_level0_col0\" class=\"col_heading level0 col0\" >A</th>\n",
       "      <th id=\"T_30f75_level0_col1\" class=\"col_heading level0 col1\" >B</th>\n",
       "      <th id=\"T_30f75_level0_col2\" class=\"col_heading level0 col2\" >C</th>\n",
       "    </tr>\n",
       "  </thead>\n",
       "  <tbody>\n",
       "    <tr>\n",
       "      <th id=\"T_30f75_level0_row0\" class=\"row_heading level0 row0\" >A</th>\n",
       "      <td id=\"T_30f75_row0_col0\" class=\"data row0 col0\" >1.00</td>\n",
       "      <td id=\"T_30f75_row0_col1\" class=\"data row0 col1\" >0.99</td>\n",
       "      <td id=\"T_30f75_row0_col2\" class=\"data row0 col2\" >1.00</td>\n",
       "    </tr>\n",
       "    <tr>\n",
       "      <th id=\"T_30f75_level0_row1\" class=\"row_heading level0 row1\" >B</th>\n",
       "      <td id=\"T_30f75_row1_col0\" class=\"data row1 col0\" >0.99</td>\n",
       "      <td id=\"T_30f75_row1_col1\" class=\"data row1 col1\" >1.00</td>\n",
       "      <td id=\"T_30f75_row1_col2\" class=\"data row1 col2\" >0.99</td>\n",
       "    </tr>\n",
       "    <tr>\n",
       "      <th id=\"T_30f75_level0_row2\" class=\"row_heading level0 row2\" >C</th>\n",
       "      <td id=\"T_30f75_row2_col0\" class=\"data row2 col0\" >1.00</td>\n",
       "      <td id=\"T_30f75_row2_col1\" class=\"data row2 col1\" >0.99</td>\n",
       "      <td id=\"T_30f75_row2_col2\" class=\"data row2 col2\" >1.00</td>\n",
       "    </tr>\n",
       "  </tbody>\n",
       "</table>\n"
      ],
      "text/plain": [
       "<pandas.io.formats.style.Styler at 0x2885561d0>"
      ]
     },
     "metadata": {},
     "output_type": "display_data"
    }
   ],
   "source": [
    "\n",
    "data = {\n",
    "    \"A\": [1, 2, 3, 4, 5],\n",
    "    \"B\": [2.2, 2.3, 2.5, 2.6, None],\n",
    "    \"C\": [6, 7, 8, 9, 10],\n",
    "    \"D\": [\"apple\", \"orange\", \"banana\", \"apple\", \"orange\"],\n",
    "}\n",
    "\n",
    "df = pd.DataFrame(data)\n",
    "basic_eda(df)\n"
   ]
  },
  {
   "cell_type": "code",
   "execution_count": 116,
   "metadata": {},
   "outputs": [],
   "source": [
    "import pandas as pd\n",
    "\n",
    "def basic_eda(df: pd.DataFrame) -> None:\n",
    "    \"\"\"\n",
    "    Perform basic exploratory data analysis on a DataFrame's columns.\n",
    "\n",
    "    :param df: A pandas DataFrame.\n",
    "    \"\"\"\n",
    "    print(\"Summary statistics:\")\n",
    "    print(df.describe())\n",
    "    \n",
    "    print(\"\\nData types:\")\n",
    "    print(df.dtypes)\n",
    "\n",
    "    print(\"\\nMissing values:\")\n",
    "    print(df.isnull().sum())\n",
    "\n",
    "    print(\"\\nUnique values:\")\n",
    "    for col in df.columns:\n",
    "        print(f\"{col}: {df[col].nunique()}\")\n",
    "\n",
    "    print(\"\\nFirst 5 rows:\")\n",
    "    print(df.head())\n",
    "\n",
    "    print(\"\\nCorrelations:\")\n",
    "    corr = df.corr()\n",
    "    print(corr)\n",
    "    \n",
    "    print(\"\\nCorrelations with background gradient:\")\n",
    "    corr_styled = corr.style.background_gradient().set_precision(2)\n",
    "    display(corr_styled)\n"
   ]
  },
  {
   "cell_type": "code",
   "execution_count": 118,
   "metadata": {},
   "outputs": [
    {
     "name": "stdout",
     "output_type": "stream",
     "text": [
      "Summary statistics:\n",
      "              A         B          C\n",
      "count  5.000000  4.000000   5.000000\n",
      "mean   3.000000  2.400000   8.000000\n",
      "std    1.581139  0.182574   1.581139\n",
      "min    1.000000  2.200000   6.000000\n",
      "25%    2.000000  2.275000   7.000000\n",
      "50%    3.000000  2.400000   8.000000\n",
      "75%    4.000000  2.525000   9.000000\n",
      "max    5.000000  2.600000  10.000000\n",
      "\n",
      "Data types:\n",
      "A      int64\n",
      "B    float64\n",
      "C      int64\n",
      "D     object\n",
      "dtype: object\n",
      "\n",
      "Missing values:\n",
      "A    0\n",
      "B    1\n",
      "C    0\n",
      "D    0\n",
      "dtype: int64\n",
      "\n",
      "Unique values:\n",
      "A: 5\n",
      "B: 4\n",
      "C: 5\n",
      "D: 3\n",
      "\n",
      "First 5 rows:\n",
      "   A    B   C       D\n",
      "0  1  2.2   6   apple\n",
      "1  2  2.3   7  orange\n",
      "2  3  2.5   8  banana\n",
      "3  4  2.6   9   apple\n",
      "4  5  NaN  10  orange\n",
      "\n",
      "Correlations:\n",
      "          A         B         C\n",
      "A  1.000000  0.989949  1.000000\n",
      "B  0.989949  1.000000  0.989949\n",
      "C  1.000000  0.989949  1.000000\n",
      "\n",
      "Correlations with background gradient:\n"
     ]
    },
    {
     "name": "stderr",
     "output_type": "stream",
     "text": [
      "/var/folders/1h/dsxf52596sl3nhrrkw898q740000gn/T/ipykernel_2604/779661306.py:26: FutureWarning: The default value of numeric_only in DataFrame.corr is deprecated. In a future version, it will default to False. Select only valid columns or specify the value of numeric_only to silence this warning.\n",
      "  corr = df.corr()\n",
      "/var/folders/1h/dsxf52596sl3nhrrkw898q740000gn/T/ipykernel_2604/779661306.py:30: FutureWarning: this method is deprecated in favour of `Styler.format(precision=..)`\n",
      "  corr_styled = corr.style.background_gradient().set_precision(2)\n"
     ]
    },
    {
     "data": {
      "text/html": [
       "<style type=\"text/css\">\n",
       "#T_912b9_row0_col0, #T_912b9_row0_col2, #T_912b9_row1_col1, #T_912b9_row2_col0, #T_912b9_row2_col2 {\n",
       "  background-color: #023858;\n",
       "  color: #f1f1f1;\n",
       "}\n",
       "#T_912b9_row0_col1, #T_912b9_row1_col0, #T_912b9_row1_col2, #T_912b9_row2_col1 {\n",
       "  background-color: #fff7fb;\n",
       "  color: #000000;\n",
       "}\n",
       "</style>\n",
       "<table id=\"T_912b9\">\n",
       "  <thead>\n",
       "    <tr>\n",
       "      <th class=\"blank level0\" >&nbsp;</th>\n",
       "      <th id=\"T_912b9_level0_col0\" class=\"col_heading level0 col0\" >A</th>\n",
       "      <th id=\"T_912b9_level0_col1\" class=\"col_heading level0 col1\" >B</th>\n",
       "      <th id=\"T_912b9_level0_col2\" class=\"col_heading level0 col2\" >C</th>\n",
       "    </tr>\n",
       "  </thead>\n",
       "  <tbody>\n",
       "    <tr>\n",
       "      <th id=\"T_912b9_level0_row0\" class=\"row_heading level0 row0\" >A</th>\n",
       "      <td id=\"T_912b9_row0_col0\" class=\"data row0 col0\" >1.00</td>\n",
       "      <td id=\"T_912b9_row0_col1\" class=\"data row0 col1\" >0.99</td>\n",
       "      <td id=\"T_912b9_row0_col2\" class=\"data row0 col2\" >1.00</td>\n",
       "    </tr>\n",
       "    <tr>\n",
       "      <th id=\"T_912b9_level0_row1\" class=\"row_heading level0 row1\" >B</th>\n",
       "      <td id=\"T_912b9_row1_col0\" class=\"data row1 col0\" >0.99</td>\n",
       "      <td id=\"T_912b9_row1_col1\" class=\"data row1 col1\" >1.00</td>\n",
       "      <td id=\"T_912b9_row1_col2\" class=\"data row1 col2\" >0.99</td>\n",
       "    </tr>\n",
       "    <tr>\n",
       "      <th id=\"T_912b9_level0_row2\" class=\"row_heading level0 row2\" >C</th>\n",
       "      <td id=\"T_912b9_row2_col0\" class=\"data row2 col0\" >1.00</td>\n",
       "      <td id=\"T_912b9_row2_col1\" class=\"data row2 col1\" >0.99</td>\n",
       "      <td id=\"T_912b9_row2_col2\" class=\"data row2 col2\" >1.00</td>\n",
       "    </tr>\n",
       "  </tbody>\n",
       "</table>\n"
      ],
      "text/plain": [
       "<pandas.io.formats.style.Styler at 0x288556290>"
      ]
     },
     "metadata": {},
     "output_type": "display_data"
    }
   ],
   "source": [
    "\n",
    "data = {\n",
    "    \"A\": [1, 2, 3, 4, 5],\n",
    "    \"B\": [2.2, 2.3, 2.5, 2.6, None],\n",
    "    \"C\": [6, 7, 8, 9, 10],\n",
    "    \"D\": [\"apple\", \"orange\", \"banana\", \"apple\", \"orange\"],\n",
    "}\n",
    "\n",
    "df = pd.DataFrame(data)\n",
    "basic_eda(df)\n"
   ]
  },
  {
   "cell_type": "code",
   "execution_count": null,
   "metadata": {},
   "outputs": [],
   "source": []
  },
  {
   "cell_type": "code",
   "execution_count": 119,
   "metadata": {},
   "outputs": [],
   "source": [
    "import pandas as pd\n",
    "import seaborn as sns\n",
    "import matplotlib.pyplot as plt\n",
    "\n",
    "def basic_eda(df: pd.DataFrame) -> None:\n",
    "    \"\"\"\n",
    "    Perform basic exploratory data analysis on a DataFrame's columns.\n",
    "\n",
    "    :param df: A pandas DataFrame.\n",
    "    \"\"\"\n",
    "    print(\"Summary statistics:\")\n",
    "    print(df.describe())\n",
    "    \n",
    "    print(\"\\nData types:\")\n",
    "    print(df.dtypes)\n",
    "\n",
    "    print(\"\\nMissing values:\")\n",
    "    print(df.isnull().sum())\n",
    "\n",
    "    print(\"\\nUnique values:\")\n",
    "    for col in df.columns:\n",
    "        print(f\"{col}: {df[col].nunique()}\")\n",
    "\n",
    "    print(\"\\nFirst 5 rows:\")\n",
    "    print(df.head())\n",
    "\n",
    "    print(\"\\nCorrelations:\")\n",
    "    corr = df.corr()\n",
    "    print(corr)\n",
    "    \n",
    "    print(\"\\nCorrelations with background gradient:\")\n",
    "    corr_styled = corr.style.background_gradient().set_precision(2)\n",
    "    display(corr_styled)\n",
    "\n",
    "    print(\"\\nBoxplots:\")\n",
    "    num_cols = df.select_dtypes(include=[\"number\"]).columns\n",
    "    non_num_cols = df.select_dtypes(exclude=[\"number\"]).columns\n",
    "\n",
    "    for non_num_col in non_num_cols:\n",
    "        for num_col in num_cols:\n",
    "            plt.figure()\n",
    "            sns.boxplot(x=non_num_col, y=num_col, data=df)\n",
    "            plt.title(f\"Boxplot of {num_col} by {non_num_col}\")\n",
    "            plt.show()\n"
   ]
  },
  {
   "cell_type": "code",
   "execution_count": 120,
   "metadata": {},
   "outputs": [
    {
     "name": "stdout",
     "output_type": "stream",
     "text": [
      "Summary statistics:\n",
      "              A         B          C\n",
      "count  5.000000  4.000000   5.000000\n",
      "mean   3.000000  2.400000   8.000000\n",
      "std    1.581139  0.182574   1.581139\n",
      "min    1.000000  2.200000   6.000000\n",
      "25%    2.000000  2.275000   7.000000\n",
      "50%    3.000000  2.400000   8.000000\n",
      "75%    4.000000  2.525000   9.000000\n",
      "max    5.000000  2.600000  10.000000\n",
      "\n",
      "Data types:\n",
      "A      int64\n",
      "B    float64\n",
      "C      int64\n",
      "D     object\n",
      "dtype: object\n",
      "\n",
      "Missing values:\n",
      "A    0\n",
      "B    1\n",
      "C    0\n",
      "D    0\n",
      "dtype: int64\n",
      "\n",
      "Unique values:\n",
      "A: 5\n",
      "B: 4\n",
      "C: 5\n",
      "D: 3\n",
      "\n",
      "First 5 rows:\n",
      "   A    B   C       D\n",
      "0  1  2.2   6   apple\n",
      "1  2  2.3   7  orange\n",
      "2  3  2.5   8  banana\n",
      "3  4  2.6   9   apple\n",
      "4  5  NaN  10  orange\n",
      "\n",
      "Correlations:\n",
      "          A         B         C\n",
      "A  1.000000  0.989949  1.000000\n",
      "B  0.989949  1.000000  0.989949\n",
      "C  1.000000  0.989949  1.000000\n",
      "\n",
      "Correlations with background gradient:\n"
     ]
    },
    {
     "name": "stderr",
     "output_type": "stream",
     "text": [
      "/var/folders/1h/dsxf52596sl3nhrrkw898q740000gn/T/ipykernel_2604/1591907644.py:28: FutureWarning: The default value of numeric_only in DataFrame.corr is deprecated. In a future version, it will default to False. Select only valid columns or specify the value of numeric_only to silence this warning.\n",
      "  corr = df.corr()\n",
      "/var/folders/1h/dsxf52596sl3nhrrkw898q740000gn/T/ipykernel_2604/1591907644.py:32: FutureWarning: this method is deprecated in favour of `Styler.format(precision=..)`\n",
      "  corr_styled = corr.style.background_gradient().set_precision(2)\n"
     ]
    },
    {
     "data": {
      "text/html": [
       "<style type=\"text/css\">\n",
       "#T_d25a8_row0_col0, #T_d25a8_row0_col2, #T_d25a8_row1_col1, #T_d25a8_row2_col0, #T_d25a8_row2_col2 {\n",
       "  background-color: #023858;\n",
       "  color: #f1f1f1;\n",
       "}\n",
       "#T_d25a8_row0_col1, #T_d25a8_row1_col0, #T_d25a8_row1_col2, #T_d25a8_row2_col1 {\n",
       "  background-color: #fff7fb;\n",
       "  color: #000000;\n",
       "}\n",
       "</style>\n",
       "<table id=\"T_d25a8\">\n",
       "  <thead>\n",
       "    <tr>\n",
       "      <th class=\"blank level0\" >&nbsp;</th>\n",
       "      <th id=\"T_d25a8_level0_col0\" class=\"col_heading level0 col0\" >A</th>\n",
       "      <th id=\"T_d25a8_level0_col1\" class=\"col_heading level0 col1\" >B</th>\n",
       "      <th id=\"T_d25a8_level0_col2\" class=\"col_heading level0 col2\" >C</th>\n",
       "    </tr>\n",
       "  </thead>\n",
       "  <tbody>\n",
       "    <tr>\n",
       "      <th id=\"T_d25a8_level0_row0\" class=\"row_heading level0 row0\" >A</th>\n",
       "      <td id=\"T_d25a8_row0_col0\" class=\"data row0 col0\" >1.00</td>\n",
       "      <td id=\"T_d25a8_row0_col1\" class=\"data row0 col1\" >0.99</td>\n",
       "      <td id=\"T_d25a8_row0_col2\" class=\"data row0 col2\" >1.00</td>\n",
       "    </tr>\n",
       "    <tr>\n",
       "      <th id=\"T_d25a8_level0_row1\" class=\"row_heading level0 row1\" >B</th>\n",
       "      <td id=\"T_d25a8_row1_col0\" class=\"data row1 col0\" >0.99</td>\n",
       "      <td id=\"T_d25a8_row1_col1\" class=\"data row1 col1\" >1.00</td>\n",
       "      <td id=\"T_d25a8_row1_col2\" class=\"data row1 col2\" >0.99</td>\n",
       "    </tr>\n",
       "    <tr>\n",
       "      <th id=\"T_d25a8_level0_row2\" class=\"row_heading level0 row2\" >C</th>\n",
       "      <td id=\"T_d25a8_row2_col0\" class=\"data row2 col0\" >1.00</td>\n",
       "      <td id=\"T_d25a8_row2_col1\" class=\"data row2 col1\" >0.99</td>\n",
       "      <td id=\"T_d25a8_row2_col2\" class=\"data row2 col2\" >1.00</td>\n",
       "    </tr>\n",
       "  </tbody>\n",
       "</table>\n"
      ],
      "text/plain": [
       "<pandas.io.formats.style.Styler at 0x2884adfc0>"
      ]
     },
     "metadata": {},
     "output_type": "display_data"
    },
    {
     "name": "stdout",
     "output_type": "stream",
     "text": [
      "\n",
      "Boxplots:\n"
     ]
    },
    {
     "data": {
      "image/png": "[encoded data removed]",
      "text/plain": [
       "<Figure size 640x480 with 1 Axes>"
      ]
     },
     "metadata": {},
     "output_type": "display_data"
    },
    {
     "data": {
      "image/png": "[encoded data removed]",
      "text/plain": [
       "<Figure size 640x480 with 1 Axes>"
      ]
     },
     "metadata": {},
     "output_type": "display_data"
    },
    {
     "data": {
      "image/png": "[encoded data removed]",
      "text/plain": [
       "<Figure size 640x480 with 1 Axes>"
      ]
     },
     "metadata": {},
     "output_type": "display_data"
    }
   ],
   "source": [
    "\n",
    "data = {\n",
    "    \"A\": [1, 2, 3, 4, 5],\n",
    "    \"B\": [2.2, 2.3, 2.5, 2.6, None],\n",
    "    \"C\": [6, 7, 8, 9, 10],\n",
    "    \"D\": [\"apple\", \"orange\", \"banana\", \"apple\", \"orange\"],\n",
    "}\n",
    "\n",
    "df = pd.DataFrame(data)\n",
    "basic_eda(df)\n"
   ]
  },
  {
   "cell_type": "code",
   "execution_count": 121,
   "metadata": {},
   "outputs": [],
   "source": [
    "import pandas as pd\n",
    "import seaborn as sns\n",
    "import matplotlib.pyplot as plt\n",
    "\n",
    "def basic_eda(df: pd.DataFrame) -> None:\n",
    "    \"\"\"\n",
    "    Perform basic exploratory data analysis on a DataFrame's columns.\n",
    "\n",
    "    :param df: A pandas DataFrame.\n",
    "    \"\"\"\n",
    "    print(\"Summary statistics:\")\n",
    "    print(df.describe())\n",
    "    \n",
    "    print(\"\\nData types:\")\n",
    "    print(df.dtypes)\n",
    "\n",
    "    print(\"\\nMissing values:\")\n",
    "    print(df.isnull().sum())\n",
    "\n",
    "    print(\"\\nUnique values:\")\n",
    "    for col in df.columns:\n",
    "        print(f\"{col}: {df[col].nunique()}\")\n",
    "\n",
    "    print(\"\\nFirst 5 rows:\")\n",
    "    print(df.head())\n",
    "\n",
    "    print(\"\\nCorrelations:\")\n",
    "    corr = df.corr()\n",
    "    print(corr)\n",
    "    \n",
    "    print(\"\\nCorrelations with background gradient:\")\n",
    "    corr_styled = corr.style.background_gradient().set_precision(2)\n",
    "    display(corr_styled)\n",
    "\n",
    "    print(\"\\nBoxplots:\")\n",
    "    num_cols = df.select_dtypes(include=[\"number\"]).columns\n",
    "    non_num_cols = df.select_dtypes(exclude=[\"number\"]).columns\n",
    "\n",
    "    for non_num_col in non_num_cols:\n",
    "        for num_col in num_cols:\n",
    "            plt.figure()\n",
    "            sns.boxplot(x=non_num_col, y=num_col, data=df)\n",
    "            plt.title(f\"Boxplot of {num_col} by {non_num_col}\")\n",
    "            plt.show()\n",
    "\n",
    "    print(\"\\nDistribution plots:\")\n",
    "    for num_col in num_cols:\n",
    "        plt.figure()\n",
    "        sns.displot(df[num_col], kde=True)\n",
    "        plt.title(f\"Distribution plot of {num_col}\")\n",
    "        plt.show()\n"
   ]
  },
  {
   "cell_type": "code",
   "execution_count": 123,
   "metadata": {},
   "outputs": [],
   "source": [
    "import pandas as pd\n",
    "import seaborn as sns\n",
    "import matplotlib.pyplot as plt\n",
    "\n",
    "def basic_eda(df: pd.DataFrame) -> None:\n",
    "    \"\"\"\n",
    "    Perform basic exploratory data analysis on a DataFrame's columns.\n",
    "\n",
    "    :param df: A pandas DataFrame.\n",
    "    \"\"\"\n",
    "    print(\"Summary statistics:\")\n",
    "    print(df.describe())\n",
    "    \n",
    "    print(\"\\nData types:\")\n",
    "    print(df.dtypes)\n",
    "\n",
    "    print(\"\\nMissing values:\")\n",
    "    print(df.isnull().sum())\n",
    "\n",
    "    print(\"\\nUnique values:\")\n",
    "    for col in df.columns:\n",
    "        print(f\"{col}: {df[col].nunique()}\")\n",
    "\n",
    "    print(\"\\nFirst 5 rows:\")\n",
    "    print(df.head())\n",
    "\n",
    "    print(\"\\nCorrelations:\")\n",
    "    corr = df.corr()\n",
    "    print(corr)\n",
    "    \n",
    "    print(\"\\nCorrelations with background gradient:\")\n",
    "    corr_styled = corr.style.background_gradient().set_precision(2)\n",
    "    display(corr_styled)\n",
    "\n",
    "    print(\"\\nBoxplots:\")\n",
    "    num_cols = df.select_dtypes(include=[\"number\"]).columns\n",
    "    non_num_cols = df.select_dtypes(exclude=[\"number\"]).columns\n",
    "\n",
    "    for non_num_col in non_num_cols:\n",
    "        for num_col in num_cols:\n",
    "            plt.figure()\n",
    "            sns.boxplot(x=non_num_col, y=num_col, data=df)\n",
    "            plt.title(f\"Boxplot of {num_col} by {non_num_col}\")\n",
    "            plt.show()\n",
    "\n",
    "    print(\"\\nDistribution plots:\")\n",
    "    for num_col in num_cols:\n",
    "        plt.figure()\n",
    "        sns.displot(df[num_col], kde=True)\n",
    "        plt.title(f\"Distribution plot of {num_col}\")\n",
    "        plt.show()\n",
    "\n",
    "    print(\"\\nCountplots:\")\n",
    "    for non_num_col in non_num_cols:\n",
    "        plt.figure()\n",
    "        sns.countplot(x=non_num_col, data=df)\n",
    "        plt.title(f\"Countplot of {non_num_col}\")\n",
    "        plt.show()\n"
   ]
  },
  {
   "cell_type": "code",
   "execution_count": 125,
   "metadata": {},
   "outputs": [],
   "source": [
    "import pandas as pd\n",
    "import seaborn as sns\n",
    "import matplotlib.pyplot as plt\n",
    "\n",
    "def basic_eda(df: pd.DataFrame) -> None:\n",
    "    \"\"\"\n",
    "    Perform basic exploratory data analysis on a DataFrame's columns.\n",
    "\n",
    "    :param df: A pandas DataFrame.\n",
    "    \"\"\"\n",
    "    print(\"Summary statistics:\")\n",
    "    print(df.describe())\n",
    "    \n",
    "    print(\"\\nData types:\")\n",
    "    print(df.dtypes)\n",
    "\n",
    "    print(\"\\nMissing values:\")\n",
    "    print(df.isnull().sum())\n",
    "\n",
    "    print(\"\\nUnique values:\")\n",
    "    for col in df.columns:\n",
    "        print(f\"{col}: {df[col].nunique()}\")\n",
    "\n",
    "    print(\"\\nFirst 5 rows:\")\n",
    "    print(df.head())\n",
    "\n",
    "    print(\"\\nCorrelations:\")\n",
    "    corr = df.corr()\n",
    "    print(corr)\n",
    "    \n",
    "    print(\"\\nCorrelations with background gradient:\")\n",
    "    corr_styled = corr.style.background_gradient().set_precision(2)\n",
    "    display(corr_styled)\n",
    "\n",
    "    print(\"\\nBoxplots:\")\n",
    "    num_cols = df.select_dtypes(include=[\"number\"]).columns\n",
    "    non_num_cols = df.select_dtypes(exclude=[\"number\"]).columns\n",
    "\n",
    "    for non_num_col in non_num_cols:\n",
    "        for num_col in num_cols:\n",
    "            plt.figure()\n",
    "            sns.boxplot(x=non_num_col, y=num_col, data=df)\n",
    "            plt.title(f\"Boxplot of {num_col} by {non_num_col}\")\n",
    "            plt.show()\n",
    "\n",
    "    print(\"\\nDistribution plots:\")\n",
    "    for num_col in num_cols:\n",
    "        plt.figure()\n",
    "        sns.displot(df[num_col], kde=True)\n",
    "        plt.title(f\"Distribution plot of {num_col}\")\n",
    "        plt.show()\n",
    "\n",
    "    print(\"\\nCountplots:\")\n",
    "    for non_num_col in non_num_cols:\n",
    "        plt.figure()\n",
    "        sns.countplot(x=non_num_col, data=df)\n",
    "        plt.title(f\"Countplot of {non_num_col}\")\n",
    "        plt.show()\n",
    "\n",
    "    print(\"\\nCorrelation Heatmap:\")\n",
    "    plt.figure()\n",
    "    heatmap = sns.heatmap(corr, vmin=-1, vmax=1, annot=True)\n",
    "    heatmap.set_title('Correlation Heatmap')\n",
    "    plt.show()\n"
   ]
  },
  {
   "cell_type": "code",
   "execution_count": 126,
   "metadata": {},
   "outputs": [
    {
     "name": "stdout",
     "output_type": "stream",
     "text": [
      "Summary statistics:\n",
      "              A         B          C\n",
      "count  5.000000  4.000000   5.000000\n",
      "mean   3.000000  2.400000   8.000000\n",
      "std    1.581139  0.182574   1.581139\n",
      "min    1.000000  2.200000   6.000000\n",
      "25%    2.000000  2.275000   7.000000\n",
      "50%    3.000000  2.400000   8.000000\n",
      "75%    4.000000  2.525000   9.000000\n",
      "max    5.000000  2.600000  10.000000\n",
      "\n",
      "Data types:\n",
      "A      int64\n",
      "B    float64\n",
      "C      int64\n",
      "D     object\n",
      "dtype: object\n",
      "\n",
      "Missing values:\n",
      "A    0\n",
      "B    1\n",
      "C    0\n",
      "D    0\n",
      "dtype: int64\n",
      "\n",
      "Unique values:\n",
      "A: 5\n",
      "B: 4\n",
      "C: 5\n",
      "D: 3\n",
      "\n",
      "First 5 rows:\n",
      "   A    B   C       D\n",
      "0  1  2.2   6   apple\n",
      "1  2  2.3   7  orange\n",
      "2  3  2.5   8  banana\n",
      "3  4  2.6   9   apple\n",
      "4  5  NaN  10  orange\n",
      "\n",
      "Correlations:\n",
      "          A         B         C\n",
      "A  1.000000  0.989949  1.000000\n",
      "B  0.989949  1.000000  0.989949\n",
      "C  1.000000  0.989949  1.000000\n",
      "\n",
      "Correlations with background gradient:\n"
     ]
    },
    {
     "name": "stderr",
     "output_type": "stream",
     "text": [
      "/var/folders/1h/dsxf52596sl3nhrrkw898q740000gn/T/ipykernel_2604/4124624798.py:28: FutureWarning: The default value of numeric_only in DataFrame.corr is deprecated. In a future version, it will default to False. Select only valid columns or specify the value of numeric_only to silence this warning.\n",
      "  corr = df.corr()\n",
      "/var/folders/1h/dsxf52596sl3nhrrkw898q740000gn/T/ipykernel_2604/4124624798.py:32: FutureWarning: this method is deprecated in favour of `Styler.format(precision=..)`\n",
      "  corr_styled = corr.style.background_gradient().set_precision(2)\n"
     ]
    },
    {
     "data": {
      "text/html": [
       "<style type=\"text/css\">\n",
       "#T_095c5_row0_col0, #T_095c5_row0_col2, #T_095c5_row1_col1, #T_095c5_row2_col0, #T_095c5_row2_col2 {\n",
       "  background-color: #023858;\n",
       "  color: #f1f1f1;\n",
       "}\n",
       "#T_095c5_row0_col1, #T_095c5_row1_col0, #T_095c5_row1_col2, #T_095c5_row2_col1 {\n",
       "  background-color: #fff7fb;\n",
       "  color: #000000;\n",
       "}\n",
       "</style>\n",
       "<table id=\"T_095c5\">\n",
       "  <thead>\n",
       "    <tr>\n",
       "      <th class=\"blank level0\" >&nbsp;</th>\n",
       "      <th id=\"T_095c5_level0_col0\" class=\"col_heading level0 col0\" >A</th>\n",
       "      <th id=\"T_095c5_level0_col1\" class=\"col_heading level0 col1\" >B</th>\n",
       "      <th id=\"T_095c5_level0_col2\" class=\"col_heading level0 col2\" >C</th>\n",
       "    </tr>\n",
       "  </thead>\n",
       "  <tbody>\n",
       "    <tr>\n",
       "      <th id=\"T_095c5_level0_row0\" class=\"row_heading level0 row0\" >A</th>\n",
       "      <td id=\"T_095c5_row0_col0\" class=\"data row0 col0\" >1.00</td>\n",
       "      <td id=\"T_095c5_row0_col1\" class=\"data row0 col1\" >0.99</td>\n",
       "      <td id=\"T_095c5_row0_col2\" class=\"data row0 col2\" >1.00</td>\n",
       "    </tr>\n",
       "    <tr>\n",
       "      <th id=\"T_095c5_level0_row1\" class=\"row_heading level0 row1\" >B</th>\n",
       "      <td id=\"T_095c5_row1_col0\" class=\"data row1 col0\" >0.99</td>\n",
       "      <td id=\"T_095c5_row1_col1\" class=\"data row1 col1\" >1.00</td>\n",
       "      <td id=\"T_095c5_row1_col2\" class=\"data row1 col2\" >0.99</td>\n",
       "    </tr>\n",
       "    <tr>\n",
       "      <th id=\"T_095c5_level0_row2\" class=\"row_heading level0 row2\" >C</th>\n",
       "      <td id=\"T_095c5_row2_col0\" class=\"data row2 col0\" >1.00</td>\n",
       "      <td id=\"T_095c5_row2_col1\" class=\"data row2 col1\" >0.99</td>\n",
       "      <td id=\"T_095c5_row2_col2\" class=\"data row2 col2\" >1.00</td>\n",
       "    </tr>\n",
       "  </tbody>\n",
       "</table>\n"
      ],
      "text/plain": [
       "<pandas.io.formats.style.Styler at 0x2884ae4a0>"
      ]
     },
     "metadata": {},
     "output_type": "display_data"
    },
    {
     "name": "stdout",
     "output_type": "stream",
     "text": [
      "\n",
      "Boxplots:\n"
     ]
    },
    {
     "data": {
      "image/png": "[encoded data removed]",
      "text/plain": [
       "<Figure size 640x480 with 1 Axes>"
      ]
     },
     "metadata": {},
     "output_type": "display_data"
    },
    {
     "data": {
      "image/png": "[encoded data removed]",
      "text/plain": [
       "<Figure size 640x480 with 1 Axes>"
      ]
     },
     "metadata": {},
     "output_type": "display_data"
    },
    {
     "data": {
      "image/png": "[encoded data removed]",
      "text/plain": [
       "<Figure size 640x480 with 1 Axes>"
      ]
     },
     "metadata": {},
     "output_type": "display_data"
    },
    {
     "name": "stdout",
     "output_type": "stream",
     "text": [
      "\n",
      "Distribution plots:\n"
     ]
    },
    {
     "data": {
      "text/plain": [
       "<Figure size 640x480 with 0 Axes>"
      ]
     },
     "metadata": {},
     "output_type": "display_data"
    },
    {
     "data": {
      "image/png": "[encoded data removed]",
      "text/plain": [
       "<Figure size 500x500 with 1 Axes>"
      ]
     },
     "metadata": {},
     "output_type": "display_data"
    },
    {
     "data": {
      "text/plain": [
       "<Figure size 640x480 with 0 Axes>"
      ]
     },
     "metadata": {},
     "output_type": "display_data"
    },
    {
     "data": {
      "image/png": "[encoded data removed]",
      "text/plain": [
       "<Figure size 500x500 with 1 Axes>"
      ]
     },
     "metadata": {},
     "output_type": "display_data"
    },
    {
     "data": {
      "text/plain": [
       "<Figure size 640x480 with 0 Axes>"
      ]
     },
     "metadata": {},
     "output_type": "display_data"
    },
    {
     "data": {
      "image/png": "[encoded data removed]",
      "text/plain": [
       "<Figure size 500x500 with 1 Axes>"
      ]
     },
     "metadata": {},
     "output_type": "display_data"
    },
    {
     "name": "stdout",
     "output_type": "stream",
     "text": [
      "\n",
      "Countplots:\n"
     ]
    },
    {
     "data": {
      "image/png": "[encoded data removed]",
      "text/plain": [
       "<Figure size 640x480 with 1 Axes>"
      ]
     },
     "metadata": {},
     "output_type": "display_data"
    },
    {
     "name": "stdout",
     "output_type": "stream",
     "text": [
      "\n",
      "Correlation Heatmap:\n"
     ]
    },
    {
     "data": {
      "image/png": "[encoded data removed]",
      "text/plain": [
       "<Figure size 640x480 with 2 Axes>"
      ]
     },
     "metadata": {},
     "output_type": "display_data"
    }
   ],
   "source": [
    "\n",
    "data = {\n",
    "    \"A\": [1, 2, 3, 4, 5],\n",
    "    \"B\": [2.2, 2.3, 2.5, 2.6, None],\n",
    "    \"C\": [6, 7, 8, 9, 10],\n",
    "    \"D\": [\"apple\", \"orange\", \"banana\", \"apple\", \"orange\"],\n",
    "}\n",
    "\n",
    "df = pd.DataFrame(data)\n",
    "basic_eda(df)\n"
   ]
  },
  {
   "cell_type": "code",
   "execution_count": null,
   "metadata": {},
   "outputs": [],
   "source": []
  }
 ],
 "metadata": {
  "kernelspec": {
   "display_name": "development",
   "language": "python",
   "name": "python3"
  },
  "language_info": {
   "codemirror_mode": {
    "name": "ipython",
    "version": 3
   },
   "file_extension": ".py",
   "mimetype": "text/x-python",
   "name": "python",
   "nbconvert_exporter": "python",
   "pygments_lexer": "ipython3",
   "version": "3.10.10 (main, Feb 16 2023, 02:49:39) [Clang 14.0.0 (clang-1400.0.29.202)]"
  },
  "orig_nbformat": 4,
  "vscode": {
   "interpreter": {
    "hash": "17e0f3795eaef204c4a9905dfc22d2e8cfc239cb2a3577fb8f958b2bbfe7fe0f"
   }
  }
 },
 "nbformat": 4,
 "nbformat_minor": 2
}
